{
 "cells": [
  {
   "cell_type": "code",
   "execution_count": 153,
   "id": "8b43f604-9f30-420d-bb61-5f01904d09c8",
   "metadata": {},
   "outputs": [],
   "source": [
    "import pandas as pd\n",
    "import numpy\n",
    "import os\n",
    "from torchtext import datasets\n",
    "from torchtext.legacy import data"
   ]
  },
  {
   "cell_type": "markdown",
   "id": "9603aeb5-41cf-49ba-886e-a0466a49f2f0",
   "metadata": {},
   "source": [
    "- In this competition, you’ll identify specific clinical concepts in patient notes. \n",
    "- Specifically, you'll develop an automated method to map clinical concepts from an exam rubric (e.g., “diminished appetite”) to various ways in which these concepts are expressed in clinical patient notes written by medical students (e.g., “eating less,” “clothes fit looser”). Great solutions will be both accurate and reliable.\n",
    "\n",
    "- If successful, you'll help tackle the biggest practical barriers in patient note scoring, making the approach more transparent, interpretable, and easing the development and administration of such assessments. As a result, medical practitioners will be able to explore the full potential of patient notes to reveal information relevant to clinical skills assessment."
   ]
  },
  {
   "cell_type": "code",
   "execution_count": 157,
   "id": "57978c32-a861-4289-9c14-75c24ec14c7c",
   "metadata": {},
   "outputs": [],
   "source": [
    "train = pd.read_table('/Users/suhancho/data/kaggle/nbme/train.csv',sep=',')\n",
    "test = pd.read_table('/Users/suhancho/data/kaggle/nbme/test.csv',sep=',')\n",
    "features = pd.read_table('/Users/suhancho/data/kaggle/nbme/features.csv',sep=',')\n",
    "notes = pd.read_table('/Users/suhancho/data/kaggle/nbme/patient_notes.csv',sep=',')\n",
    "sub = pd.read_table('/Users/suhancho/data/kaggle/nbme/sample_submission.csv',sep=',')"
   ]
  },
  {
   "cell_type": "code",
   "execution_count": 158,
   "id": "428914e4-5867-49f4-9933-825c3803742a",
   "metadata": {},
   "outputs": [],
   "source": [
    "test_merged = pd.merge(test,features,on=['case_num','feature_num'])"
   ]
  },
  {
   "cell_type": "code",
   "execution_count": 159,
   "id": "c1484d61-eaac-4f72-8090-91f674590092",
   "metadata": {},
   "outputs": [],
   "source": [
    "merged = pd.merge(train,features,on=['case_num','feature_num'])"
   ]
  },
  {
   "cell_type": "code",
   "execution_count": 160,
   "id": "1ea142e4-d202-41aa-aa30-614c4b428703",
   "metadata": {},
   "outputs": [
    {
     "name": "stderr",
     "output_type": "stream",
     "text": [
      "/var/folders/3m/68621g4n7pd2p55cvf4c9tmh0000gn/T/ipykernel_17476/123955389.py:2: FutureWarning: The default value of regex will change from True to False in a future version. In addition, single character regular expressions will *not* be treated as literal strings when regex=True.\n",
      "  merged['annotation'] = merged['annotation'].str.replace('[','').str.replace(']','')\n"
     ]
    }
   ],
   "source": [
    "# merged['annotation'] = merged['annotation'].str.replace(\"[]\",'1000')\n",
    "merged['annotation'] = merged['annotation'].str.replace('[','').str.replace(']','')\n",
    "merged['annotation'] = merged['annotation'].str.replace(\"'\",'')\n",
    "# merged = merged.replace(r'', 1000)"
   ]
  },
  {
   "cell_type": "code",
   "execution_count": 239,
   "id": "8674759b-6d8b-4607-9a23-6c574f0fc023",
   "metadata": {},
   "outputs": [
    {
     "data": {
      "text/html": [
       "<div>\n",
       "<style scoped>\n",
       "    .dataframe tbody tr th:only-of-type {\n",
       "        vertical-align: middle;\n",
       "    }\n",
       "\n",
       "    .dataframe tbody tr th {\n",
       "        vertical-align: top;\n",
       "    }\n",
       "\n",
       "    .dataframe thead th {\n",
       "        text-align: right;\n",
       "    }\n",
       "</style>\n",
       "<table border=\"1\" class=\"dataframe\">\n",
       "  <thead>\n",
       "    <tr style=\"text-align: right;\">\n",
       "      <th></th>\n",
       "      <th>id</th>\n",
       "      <th>case_num</th>\n",
       "      <th>pn_num</th>\n",
       "      <th>feature_num</th>\n",
       "    </tr>\n",
       "  </thead>\n",
       "  <tbody>\n",
       "    <tr>\n",
       "      <th>0</th>\n",
       "      <td>00016_000</td>\n",
       "      <td>0</td>\n",
       "      <td>16</td>\n",
       "      <td>0</td>\n",
       "    </tr>\n",
       "    <tr>\n",
       "      <th>1</th>\n",
       "      <td>00016_001</td>\n",
       "      <td>0</td>\n",
       "      <td>16</td>\n",
       "      <td>1</td>\n",
       "    </tr>\n",
       "    <tr>\n",
       "      <th>2</th>\n",
       "      <td>00016_002</td>\n",
       "      <td>0</td>\n",
       "      <td>16</td>\n",
       "      <td>2</td>\n",
       "    </tr>\n",
       "    <tr>\n",
       "      <th>3</th>\n",
       "      <td>00016_003</td>\n",
       "      <td>0</td>\n",
       "      <td>16</td>\n",
       "      <td>3</td>\n",
       "    </tr>\n",
       "    <tr>\n",
       "      <th>4</th>\n",
       "      <td>00016_004</td>\n",
       "      <td>0</td>\n",
       "      <td>16</td>\n",
       "      <td>4</td>\n",
       "    </tr>\n",
       "  </tbody>\n",
       "</table>\n",
       "</div>"
      ],
      "text/plain": [
       "          id  case_num  pn_num  feature_num\n",
       "0  00016_000         0      16            0\n",
       "1  00016_001         0      16            1\n",
       "2  00016_002         0      16            2\n",
       "3  00016_003         0      16            3\n",
       "4  00016_004         0      16            4"
      ]
     },
     "execution_count": 239,
     "metadata": {},
     "output_type": "execute_result"
    }
   ],
   "source": [
    "test"
   ]
  },
  {
   "cell_type": "code",
   "execution_count": 238,
   "id": "4680e44e-74fd-4bd1-b6cb-e82ea4ec4e5d",
   "metadata": {},
   "outputs": [
    {
     "data": {
      "text/html": [
       "<div>\n",
       "<style scoped>\n",
       "    .dataframe tbody tr th:only-of-type {\n",
       "        vertical-align: middle;\n",
       "    }\n",
       "\n",
       "    .dataframe tbody tr th {\n",
       "        vertical-align: top;\n",
       "    }\n",
       "\n",
       "    .dataframe thead th {\n",
       "        text-align: right;\n",
       "    }\n",
       "</style>\n",
       "<table border=\"1\" class=\"dataframe\">\n",
       "  <thead>\n",
       "    <tr style=\"text-align: right;\">\n",
       "      <th></th>\n",
       "      <th>id</th>\n",
       "      <th>case_num</th>\n",
       "      <th>pn_num</th>\n",
       "      <th>feature_num</th>\n",
       "      <th>annotation</th>\n",
       "      <th>location</th>\n",
       "    </tr>\n",
       "  </thead>\n",
       "  <tbody>\n",
       "    <tr>\n",
       "      <th>0</th>\n",
       "      <td>00016_000</td>\n",
       "      <td>0</td>\n",
       "      <td>16</td>\n",
       "      <td>0</td>\n",
       "      <td>['dad with recent heart attcak']</td>\n",
       "      <td>['696 724']</td>\n",
       "    </tr>\n",
       "    <tr>\n",
       "      <th>1</th>\n",
       "      <td>00016_001</td>\n",
       "      <td>0</td>\n",
       "      <td>16</td>\n",
       "      <td>1</td>\n",
       "      <td>['mom with \"thyroid disease']</td>\n",
       "      <td>['668 693']</td>\n",
       "    </tr>\n",
       "    <tr>\n",
       "      <th>2</th>\n",
       "      <td>00016_002</td>\n",
       "      <td>0</td>\n",
       "      <td>16</td>\n",
       "      <td>2</td>\n",
       "      <td>['chest pressure']</td>\n",
       "      <td>['203 217']</td>\n",
       "    </tr>\n",
       "  </tbody>\n",
       "</table>\n",
       "</div>"
      ],
      "text/plain": [
       "          id  case_num  pn_num  feature_num                        annotation  \\\n",
       "0  00016_000         0      16            0  ['dad with recent heart attcak']   \n",
       "1  00016_001         0      16            1     ['mom with \"thyroid disease']   \n",
       "2  00016_002         0      16            2                ['chest pressure']   \n",
       "\n",
       "      location  \n",
       "0  ['696 724']  \n",
       "1  ['668 693']  \n",
       "2  ['203 217']  "
      ]
     },
     "execution_count": 238,
     "metadata": {},
     "output_type": "execute_result"
    }
   ],
   "source": [
    "train.head(3)"
   ]
  },
  {
   "cell_type": "code",
   "execution_count": 242,
   "id": "ae047720-6f1d-4a3a-ae2d-792fb9dc76f8",
   "metadata": {},
   "outputs": [
    {
     "data": {
      "text/html": [
       "<div>\n",
       "<style scoped>\n",
       "    .dataframe tbody tr th:only-of-type {\n",
       "        vertical-align: middle;\n",
       "    }\n",
       "\n",
       "    .dataframe tbody tr th {\n",
       "        vertical-align: top;\n",
       "    }\n",
       "\n",
       "    .dataframe thead th {\n",
       "        text-align: right;\n",
       "    }\n",
       "</style>\n",
       "<table border=\"1\" class=\"dataframe\">\n",
       "  <thead>\n",
       "    <tr style=\"text-align: right;\">\n",
       "      <th></th>\n",
       "      <th>pn_num</th>\n",
       "      <th>case_num</th>\n",
       "      <th>pn_history</th>\n",
       "    </tr>\n",
       "  </thead>\n",
       "  <tbody>\n",
       "    <tr>\n",
       "      <th>0</th>\n",
       "      <td>0</td>\n",
       "      <td>0</td>\n",
       "      <td>17-year-old male, has come to the student heal...</td>\n",
       "    </tr>\n",
       "    <tr>\n",
       "      <th>1</th>\n",
       "      <td>1</td>\n",
       "      <td>0</td>\n",
       "      <td>17 yo male with recurrent palpitations for the...</td>\n",
       "    </tr>\n",
       "    <tr>\n",
       "      <th>2</th>\n",
       "      <td>2</td>\n",
       "      <td>0</td>\n",
       "      <td>Dillon Cleveland is a 17 y.o. male patient wit...</td>\n",
       "    </tr>\n",
       "  </tbody>\n",
       "</table>\n",
       "</div>"
      ],
      "text/plain": [
       "   pn_num  case_num                                         pn_history\n",
       "0       0         0  17-year-old male, has come to the student heal...\n",
       "1       1         0  17 yo male with recurrent palpitations for the...\n",
       "2       2         0  Dillon Cleveland is a 17 y.o. male patient wit..."
      ]
     },
     "execution_count": 242,
     "metadata": {},
     "output_type": "execute_result"
    }
   ],
   "source": [
    "notes.head(3)"
   ]
  },
  {
   "cell_type": "code",
   "execution_count": 205,
   "id": "cd75594c-f618-430b-9d0e-67e9aa55712d",
   "metadata": {},
   "outputs": [
    {
     "data": {
      "text/plain": [
       "'dad with recent heart attcak'"
      ]
     },
     "execution_count": 205,
     "metadata": {},
     "output_type": "execute_result"
    }
   ],
   "source": [
    "str(notes[(notes.pn_num==16) & (notes.case_num==0)]['pn_history'].tolist()[0])[696:724]"
   ]
  },
  {
   "cell_type": "code",
   "execution_count": 207,
   "id": "5f3c329e-8c2a-47a3-ba71-9fef411b495d",
   "metadata": {},
   "outputs": [
    {
     "data": {
      "text/plain": [
       "'HPI: 17yo M presents with palpitations. Patient reports 3-4 months of intermittent episodes of \"heart beating/pounding out of my chest.\" 2 days ago during a soccer game had an episode, but this time had chest pressure and felt as if he were going to pass out (did not lose conciousness). Of note patient endorses abusing adderall, primarily to study (1-3 times per week). Before recent soccer game, took adderrall night before and morning of game. Denies shortness of breath, diaphoresis, fevers, chills, headache, fatigue, changes in sleep, changes in vision/hearing, abdominal paun, changes in bowel or urinary habits. \\r\\nPMHx: none\\r\\nRx: uses friends adderrall\\r\\nFHx: mom with \"thyroid disease,\" dad with recent heart attcak\\r\\nAll: none\\r\\nImmunizations: up to date\\r\\nSHx: Freshmen in college. Endorses 3-4 drinks 3 nights / week (on weekends), denies tabacco, endorses trying marijuana. Sexually active with girlfriend x 1 year, uses condoms'"
      ]
     },
     "execution_count": 207,
     "metadata": {},
     "output_type": "execute_result"
    }
   ],
   "source": [
    "str(notes[(notes.pn_num==16) & (notes.case_num==0)]['pn_history'].tolist()[0])"
   ]
  },
  {
   "cell_type": "code",
   "execution_count": 216,
   "id": "cbea5968-a3fd-408b-9310-b4cc53b18100",
   "metadata": {},
   "outputs": [
    {
     "data": {
      "text/plain": [
       "'Family-history-of-MI-OR-Family-history-of-myocardial-infarction'"
      ]
     },
     "execution_count": 216,
     "metadata": {},
     "output_type": "execute_result"
    }
   ],
   "source": [
    "features['feature_text'].tolist()[0]"
   ]
  },
  {
   "cell_type": "code",
   "execution_count": 149,
   "id": "872d570f-8055-4f85-b592-c4ba9f82edfa",
   "metadata": {},
   "outputs": [],
   "source": [
    "merged = merged[['annotation','feature_num']]"
   ]
  },
  {
   "cell_type": "code",
   "execution_count": 150,
   "id": "3a16c905-edcb-4e1f-9723-818eb836ee82",
   "metadata": {},
   "outputs": [],
   "source": [
    "merged = merged[merged['annotation']!='']"
   ]
  },
  {
   "cell_type": "code",
   "execution_count": 151,
   "id": "cae9e1c7-6da9-40fe-81b3-6ff6fd63ff93",
   "metadata": {},
   "outputs": [],
   "source": [
    "merged['annotation'] = merged['annotation'].str.replace(':','').str.replace('-',' ').str.replace(',',' ')"
   ]
  },
  {
   "cell_type": "code",
   "execution_count": 152,
   "id": "4b379d21-28e5-4024-9a5c-4a939623f1cb",
   "metadata": {},
   "outputs": [
    {
     "data": {
      "text/html": [
       "<div>\n",
       "<style scoped>\n",
       "    .dataframe tbody tr th:only-of-type {\n",
       "        vertical-align: middle;\n",
       "    }\n",
       "\n",
       "    .dataframe tbody tr th {\n",
       "        vertical-align: top;\n",
       "    }\n",
       "\n",
       "    .dataframe thead th {\n",
       "        text-align: right;\n",
       "    }\n",
       "</style>\n",
       "<table border=\"1\" class=\"dataframe\">\n",
       "  <thead>\n",
       "    <tr style=\"text-align: right;\">\n",
       "      <th></th>\n",
       "      <th>annotation</th>\n",
       "      <th>feature_num</th>\n",
       "    </tr>\n",
       "  </thead>\n",
       "  <tbody>\n",
       "    <tr>\n",
       "      <th>0</th>\n",
       "      <td>dad with recent heart attcak</td>\n",
       "      <td>0</td>\n",
       "    </tr>\n",
       "    <tr>\n",
       "      <th>1</th>\n",
       "      <td>NaN</td>\n",
       "      <td>0</td>\n",
       "    </tr>\n",
       "    <tr>\n",
       "      <th>2</th>\n",
       "      <td>father heart attack</td>\n",
       "      <td>0</td>\n",
       "    </tr>\n",
       "    <tr>\n",
       "      <th>3</th>\n",
       "      <td>Father MI</td>\n",
       "      <td>0</td>\n",
       "    </tr>\n",
       "    <tr>\n",
       "      <th>4</th>\n",
       "      <td>Dad MI</td>\n",
       "      <td>0</td>\n",
       "    </tr>\n",
       "    <tr>\n",
       "      <th>...</th>\n",
       "      <td>...</td>\n",
       "      <td>...</td>\n",
       "    </tr>\n",
       "    <tr>\n",
       "      <th>14295</th>\n",
       "      <td>subjective fever</td>\n",
       "      <td>916</td>\n",
       "    </tr>\n",
       "    <tr>\n",
       "      <th>14296</th>\n",
       "      <td>NaN</td>\n",
       "      <td>916</td>\n",
       "    </tr>\n",
       "    <tr>\n",
       "      <th>14297</th>\n",
       "      <td>feels warm</td>\n",
       "      <td>916</td>\n",
       "    </tr>\n",
       "    <tr>\n",
       "      <th>14298</th>\n",
       "      <td>Felt warm</td>\n",
       "      <td>916</td>\n",
       "    </tr>\n",
       "    <tr>\n",
       "      <th>14299</th>\n",
       "      <td>Subjective fever</td>\n",
       "      <td>916</td>\n",
       "    </tr>\n",
       "  </tbody>\n",
       "</table>\n",
       "<p>14300 rows × 2 columns</p>\n",
       "</div>"
      ],
      "text/plain": [
       "                         annotation  feature_num\n",
       "0      dad with recent heart attcak            0\n",
       "1                               NaN            0\n",
       "2               father heart attack            0\n",
       "3                         Father MI            0\n",
       "4                            Dad MI            0\n",
       "...                             ...          ...\n",
       "14295              subjective fever          916\n",
       "14296                           NaN          916\n",
       "14297                    feels warm          916\n",
       "14298                     Felt warm          916\n",
       "14299              Subjective fever          916\n",
       "\n",
       "[14300 rows x 2 columns]"
      ]
     },
     "execution_count": 152,
     "metadata": {},
     "output_type": "execute_result"
    }
   ],
   "source": [
    "merged"
   ]
  },
  {
   "cell_type": "code",
   "execution_count": 36,
   "id": "a6e863e3-9ff0-407b-9b84-b807be5becc6",
   "metadata": {},
   "outputs": [],
   "source": [
    "merged.to_csv('/Users/suhancho/data/kaggle/nbme/train.tsv',sep='\\t',index=None)"
   ]
  },
  {
   "cell_type": "code",
   "execution_count": 81,
   "id": "307008c7-69f1-486a-8c20-b9570ad810e4",
   "metadata": {},
   "outputs": [
    {
     "data": {
      "text/plain": [
       "143"
      ]
     },
     "execution_count": 81,
     "metadata": {},
     "output_type": "execute_result"
    }
   ],
   "source": [
    "len(set(merged['feature_num']))"
   ]
  },
  {
   "cell_type": "code",
   "execution_count": 251,
   "id": "df64184d-21ee-4ed9-a733-8754bc4a0674",
   "metadata": {},
   "outputs": [
    {
     "name": "stderr",
     "output_type": "stream",
     "text": [
      "/var/folders/3m/68621g4n7pd2p55cvf4c9tmh0000gn/T/ipykernel_17476/274413722.py:2: FutureWarning: The default value of regex will change from True to False in a future version. In addition, single character regular expressions will *not* be treated as literal strings when regex=True.\n",
      "  notes_csv['pn_history'] = notes_csv['pn_history'].str.replace(':','').str.replace('-',' ').str.replace(',',' ').str.replace('(',' ').str.replace(')',' ').str.replace('/',' ')\n",
      "/var/folders/3m/68621g4n7pd2p55cvf4c9tmh0000gn/T/ipykernel_17476/274413722.py:2: SettingWithCopyWarning: \n",
      "A value is trying to be set on a copy of a slice from a DataFrame.\n",
      "Try using .loc[row_indexer,col_indexer] = value instead\n",
      "\n",
      "See the caveats in the documentation: https://pandas.pydata.org/pandas-docs/stable/user_guide/indexing.html#returning-a-view-versus-a-copy\n",
      "  notes_csv['pn_history'] = notes_csv['pn_history'].str.replace(':','').str.replace('-',' ').str.replace(',',' ').str.replace('(',' ').str.replace(')',' ').str.replace('/',' ')\n"
     ]
    }
   ],
   "source": [
    "notes_csv = notes[['pn_history']]\n",
    "notes_csv['pn_history'] = notes_csv['pn_history'].str.replace(':','').str.replace('-',' ').str.replace(',',' ').str.replace('(',' ').str.replace(')',' ').str.replace('/',' ')"
   ]
  },
  {
   "cell_type": "code",
   "execution_count": 252,
   "id": "8359977d-81b6-4eed-8eca-3a656892f216",
   "metadata": {},
   "outputs": [],
   "source": [
    "notes_csv.to_csv('/Users/suhancho/data/kaggle/nbme/notes.tsv',sep='\\t',index=None)"
   ]
  },
  {
   "cell_type": "code",
   "execution_count": null,
   "id": "09fba2af-f4e5-42d8-8b12-ad30beb0dbe8",
   "metadata": {},
   "outputs": [],
   "source": []
  }
 ],
 "metadata": {
  "kernelspec": {
   "display_name": "Python 3 (ipykernel)",
   "language": "python",
   "name": "python3"
  },
  "language_info": {
   "codemirror_mode": {
    "name": "ipython",
    "version": 3
   },
   "file_extension": ".py",
   "mimetype": "text/x-python",
   "name": "python",
   "nbconvert_exporter": "python",
   "pygments_lexer": "ipython3",
   "version": "3.9.7"
  }
 },
 "nbformat": 4,
 "nbformat_minor": 5
}
