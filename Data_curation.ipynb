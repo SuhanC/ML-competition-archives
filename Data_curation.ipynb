{
 "cells": [
  {
   "cell_type": "code",
   "execution_count": 1,
   "id": "8b43f604-9f30-420d-bb61-5f01904d09c8",
   "metadata": {},
   "outputs": [],
   "source": [
    "import pandas as pd\n",
    "import numpy\n",
    "import os\n",
    "from torchtext import datasets\n",
    "from torchtext.legacy import data"
   ]
  },
  {
   "cell_type": "markdown",
   "id": "9603aeb5-41cf-49ba-886e-a0466a49f2f0",
   "metadata": {},
   "source": [
    "- In this competition, you’ll identify specific clinical concepts in patient notes. \n",
    "- Specifically, you'll develop an automated method to map clinical concepts from an exam rubric (e.g., “diminished appetite”) to various ways in which these concepts are expressed in clinical patient notes written by medical students (e.g., “eating less,” “clothes fit looser”). Great solutions will be both accurate and reliable.\n",
    "\n",
    "- If successful, you'll help tackle the biggest practical barriers in patient note scoring, making the approach more transparent, interpretable, and easing the development and administration of such assessments. As a result, medical practitioners will be able to explore the full potential of patient notes to reveal information relevant to clinical skills assessment."
   ]
  },
  {
   "cell_type": "code",
   "execution_count": 2,
   "id": "57978c32-a861-4289-9c14-75c24ec14c7c",
   "metadata": {},
   "outputs": [],
   "source": [
    "train = pd.read_table('/Users/suhancho/data/kaggle/nbme/train.csv',sep=',')\n",
    "test = pd.read_table('/Users/suhancho/data/kaggle/nbme/test.csv',sep=',')\n",
    "features = pd.read_table('/Users/suhancho/data/kaggle/nbme/features.csv',sep=',')\n",
    "notes = pd.read_table('/Users/suhancho/data/kaggle/nbme/patient_notes.csv',sep=',')\n",
    "sub = pd.read_table('/Users/suhancho/data/kaggle/nbme/sample_submission.csv',sep=',')"
   ]
  },
  {
   "cell_type": "code",
   "execution_count": 3,
   "id": "c1484d61-eaac-4f72-8090-91f674590092",
   "metadata": {},
   "outputs": [],
   "source": [
    "merged = pd.merge(train,features,on=['case_num','feature_num'])"
   ]
  },
  {
   "cell_type": "code",
   "execution_count": 4,
   "id": "1ea142e4-d202-41aa-aa30-614c4b428703",
   "metadata": {},
   "outputs": [
    {
     "name": "stderr",
     "output_type": "stream",
     "text": [
      "/var/folders/3m/68621g4n7pd2p55cvf4c9tmh0000gn/T/ipykernel_17476/1686231979.py:1: FutureWarning: The default value of regex will change from True to False in a future version. In addition, single character regular expressions will *not* be treated as literal strings when regex=True.\n",
      "  merged['annotation'] = merged['annotation'].str.replace('[','').str.replace(']','')\n"
     ]
    }
   ],
   "source": [
    "merged['annotation'] = merged['annotation'].str.replace('[','').str.replace(']','')\n",
    "merged['annotation'] = merged['annotation'].str.replace(\"'\",'')"
   ]
  },
  {
   "cell_type": "code",
   "execution_count": 5,
   "id": "21320de0-70de-4d14-ac76-b8c6cfc3343c",
   "metadata": {},
   "outputs": [
    {
     "data": {
      "text/html": [
       "<div>\n",
       "<style scoped>\n",
       "    .dataframe tbody tr th:only-of-type {\n",
       "        vertical-align: middle;\n",
       "    }\n",
       "\n",
       "    .dataframe tbody tr th {\n",
       "        vertical-align: top;\n",
       "    }\n",
       "\n",
       "    .dataframe thead th {\n",
       "        text-align: right;\n",
       "    }\n",
       "</style>\n",
       "<table border=\"1\" class=\"dataframe\">\n",
       "  <thead>\n",
       "    <tr style=\"text-align: right;\">\n",
       "      <th></th>\n",
       "      <th>id</th>\n",
       "      <th>case_num</th>\n",
       "      <th>pn_num</th>\n",
       "      <th>feature_num</th>\n",
       "      <th>annotation</th>\n",
       "      <th>location</th>\n",
       "      <th>feature_text</th>\n",
       "    </tr>\n",
       "  </thead>\n",
       "  <tbody>\n",
       "    <tr>\n",
       "      <th>0</th>\n",
       "      <td>00016_000</td>\n",
       "      <td>0</td>\n",
       "      <td>16</td>\n",
       "      <td>0</td>\n",
       "      <td>dad with recent heart attcak</td>\n",
       "      <td>['696 724']</td>\n",
       "      <td>Family-history-of-MI-OR-Family-history-of-myoc...</td>\n",
       "    </tr>\n",
       "    <tr>\n",
       "      <th>1</th>\n",
       "      <td>00041_000</td>\n",
       "      <td>0</td>\n",
       "      <td>41</td>\n",
       "      <td>0</td>\n",
       "      <td></td>\n",
       "      <td>[]</td>\n",
       "      <td>Family-history-of-MI-OR-Family-history-of-myoc...</td>\n",
       "    </tr>\n",
       "    <tr>\n",
       "      <th>2</th>\n",
       "      <td>00046_000</td>\n",
       "      <td>0</td>\n",
       "      <td>46</td>\n",
       "      <td>0</td>\n",
       "      <td>father: heart attack</td>\n",
       "      <td>['824 844']</td>\n",
       "      <td>Family-history-of-MI-OR-Family-history-of-myoc...</td>\n",
       "    </tr>\n",
       "    <tr>\n",
       "      <th>3</th>\n",
       "      <td>00082_000</td>\n",
       "      <td>0</td>\n",
       "      <td>82</td>\n",
       "      <td>0</td>\n",
       "      <td>Father MI</td>\n",
       "      <td>['622 631']</td>\n",
       "      <td>Family-history-of-MI-OR-Family-history-of-myoc...</td>\n",
       "    </tr>\n",
       "    <tr>\n",
       "      <th>4</th>\n",
       "      <td>00100_000</td>\n",
       "      <td>0</td>\n",
       "      <td>100</td>\n",
       "      <td>0</td>\n",
       "      <td>Dad-MI</td>\n",
       "      <td>['735 741']</td>\n",
       "      <td>Family-history-of-MI-OR-Family-history-of-myoc...</td>\n",
       "    </tr>\n",
       "    <tr>\n",
       "      <th>...</th>\n",
       "      <td>...</td>\n",
       "      <td>...</td>\n",
       "      <td>...</td>\n",
       "      <td>...</td>\n",
       "      <td>...</td>\n",
       "      <td>...</td>\n",
       "      <td>...</td>\n",
       "    </tr>\n",
       "    <tr>\n",
       "      <th>14295</th>\n",
       "      <td>95145_916</td>\n",
       "      <td>9</td>\n",
       "      <td>95145</td>\n",
       "      <td>916</td>\n",
       "      <td>subjective fever</td>\n",
       "      <td>['169 185']</td>\n",
       "      <td>Subjective-fever</td>\n",
       "    </tr>\n",
       "    <tr>\n",
       "      <th>14296</th>\n",
       "      <td>95228_916</td>\n",
       "      <td>9</td>\n",
       "      <td>95228</td>\n",
       "      <td>916</td>\n",
       "      <td></td>\n",
       "      <td>[]</td>\n",
       "      <td>Subjective-fever</td>\n",
       "    </tr>\n",
       "    <tr>\n",
       "      <th>14297</th>\n",
       "      <td>95243_916</td>\n",
       "      <td>9</td>\n",
       "      <td>95243</td>\n",
       "      <td>916</td>\n",
       "      <td>feels warm</td>\n",
       "      <td>['376 386']</td>\n",
       "      <td>Subjective-fever</td>\n",
       "    </tr>\n",
       "    <tr>\n",
       "      <th>14298</th>\n",
       "      <td>95330_916</td>\n",
       "      <td>9</td>\n",
       "      <td>95330</td>\n",
       "      <td>916</td>\n",
       "      <td>Felt warm</td>\n",
       "      <td>['358 367']</td>\n",
       "      <td>Subjective-fever</td>\n",
       "    </tr>\n",
       "    <tr>\n",
       "      <th>14299</th>\n",
       "      <td>95333_916</td>\n",
       "      <td>9</td>\n",
       "      <td>95333</td>\n",
       "      <td>916</td>\n",
       "      <td>Subjective fever</td>\n",
       "      <td>['314 330']</td>\n",
       "      <td>Subjective-fever</td>\n",
       "    </tr>\n",
       "  </tbody>\n",
       "</table>\n",
       "<p>14300 rows × 7 columns</p>\n",
       "</div>"
      ],
      "text/plain": [
       "              id  case_num  pn_num  feature_num                    annotation  \\\n",
       "0      00016_000         0      16            0  dad with recent heart attcak   \n",
       "1      00041_000         0      41            0                                 \n",
       "2      00046_000         0      46            0          father: heart attack   \n",
       "3      00082_000         0      82            0                     Father MI   \n",
       "4      00100_000         0     100            0                        Dad-MI   \n",
       "...          ...       ...     ...          ...                           ...   \n",
       "14295  95145_916         9   95145          916              subjective fever   \n",
       "14296  95228_916         9   95228          916                                 \n",
       "14297  95243_916         9   95243          916                    feels warm   \n",
       "14298  95330_916         9   95330          916                     Felt warm   \n",
       "14299  95333_916         9   95333          916              Subjective fever   \n",
       "\n",
       "          location                                       feature_text  \n",
       "0      ['696 724']  Family-history-of-MI-OR-Family-history-of-myoc...  \n",
       "1               []  Family-history-of-MI-OR-Family-history-of-myoc...  \n",
       "2      ['824 844']  Family-history-of-MI-OR-Family-history-of-myoc...  \n",
       "3      ['622 631']  Family-history-of-MI-OR-Family-history-of-myoc...  \n",
       "4      ['735 741']  Family-history-of-MI-OR-Family-history-of-myoc...  \n",
       "...            ...                                                ...  \n",
       "14295  ['169 185']                                   Subjective-fever  \n",
       "14296           []                                   Subjective-fever  \n",
       "14297  ['376 386']                                   Subjective-fever  \n",
       "14298  ['358 367']                                   Subjective-fever  \n",
       "14299  ['314 330']                                   Subjective-fever  \n",
       "\n",
       "[14300 rows x 7 columns]"
      ]
     },
     "execution_count": 5,
     "metadata": {},
     "output_type": "execute_result"
    }
   ],
   "source": [
    "merged"
   ]
  },
  {
   "cell_type": "code",
   "execution_count": 6,
   "id": "872d570f-8055-4f85-b592-c4ba9f82edfa",
   "metadata": {},
   "outputs": [],
   "source": [
    "merged = merged[['annotation','feature_num']]"
   ]
  },
  {
   "cell_type": "code",
   "execution_count": 7,
   "id": "3a16c905-edcb-4e1f-9723-818eb836ee82",
   "metadata": {},
   "outputs": [],
   "source": [
    "merged = merged[merged['annotation']!='']"
   ]
  },
  {
   "cell_type": "code",
   "execution_count": 35,
   "id": "cae9e1c7-6da9-40fe-81b3-6ff6fd63ff93",
   "metadata": {},
   "outputs": [],
   "source": [
    "merged['annotation'] = merged['annotation'].str.replace(':','').str.replace('-',' ').str.replace(',',' ')"
   ]
  },
  {
   "cell_type": "code",
   "execution_count": 36,
   "id": "a6e863e3-9ff0-407b-9b84-b807be5becc6",
   "metadata": {},
   "outputs": [],
   "source": [
    "merged.to_csv('/Users/suhancho/data/kaggle/nbme/train.tsv',sep='\\t',index=None)"
   ]
  },
  {
   "cell_type": "code",
   "execution_count": 81,
   "id": "307008c7-69f1-486a-8c20-b9570ad810e4",
   "metadata": {},
   "outputs": [
    {
     "data": {
      "text/plain": [
       "143"
      ]
     },
     "execution_count": 81,
     "metadata": {},
     "output_type": "execute_result"
    }
   ],
   "source": [
    "len(set(merged['feature_num']))"
   ]
  }
 ],
 "metadata": {
  "kernelspec": {
   "display_name": "Python 3 (ipykernel)",
   "language": "python",
   "name": "python3"
  },
  "language_info": {
   "codemirror_mode": {
    "name": "ipython",
    "version": 3
   },
   "file_extension": ".py",
   "mimetype": "text/x-python",
   "name": "python",
   "nbconvert_exporter": "python",
   "pygments_lexer": "ipython3",
   "version": "3.9.7"
  }
 },
 "nbformat": 4,
 "nbformat_minor": 5
}
