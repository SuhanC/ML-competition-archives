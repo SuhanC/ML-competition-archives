{
 "cells": [
  {
   "cell_type": "markdown",
   "id": "6803182a",
   "metadata": {
    "papermill": {
     "duration": 0.003149,
     "end_time": "2023-02-09T01:02:28.409217",
     "exception": false,
     "start_time": "2023-02-09T01:02:28.406068",
     "status": "completed"
    },
    "tags": []
   },
   "source": [
    "# Download US county codes from Wikipedia!"
   ]
  },
  {
   "cell_type": "code",
   "execution_count": 1,
   "id": "38f11354",
   "metadata": {
    "_cell_guid": "b1076dfc-b9ad-4769-8c92-a6c4dae69d19",
    "_uuid": "8f2839f25d086af736a60e9eeb907d3b93b6e0e5",
    "execution": {
     "iopub.execute_input": "2023-02-09T01:02:28.415822Z",
     "iopub.status.busy": "2023-02-09T01:02:28.414811Z",
     "iopub.status.idle": "2023-02-09T01:02:28.429447Z",
     "shell.execute_reply": "2023-02-09T01:02:28.428540Z"
    },
    "papermill": {
     "duration": 0.020953,
     "end_time": "2023-02-09T01:02:28.432148",
     "exception": false,
     "start_time": "2023-02-09T01:02:28.411195",
     "status": "completed"
    },
    "tags": []
   },
   "outputs": [],
   "source": [
    "import pandas as pd"
   ]
  },
  {
   "cell_type": "code",
   "execution_count": 2,
   "id": "6c4845e1",
   "metadata": {
    "execution": {
     "iopub.execute_input": "2023-02-09T01:02:28.437344Z",
     "iopub.status.busy": "2023-02-09T01:02:28.436943Z",
     "iopub.status.idle": "2023-02-09T01:02:29.577152Z",
     "shell.execute_reply": "2023-02-09T01:02:29.575922Z"
    },
    "papermill": {
     "duration": 1.145704,
     "end_time": "2023-02-09T01:02:29.579717",
     "exception": false,
     "start_time": "2023-02-09T01:02:28.434013",
     "status": "completed"
    },
    "tags": []
   },
   "outputs": [],
   "source": [
    "codes = pd.read_html('https://en.wikipedia.org/wiki/List_of_United_States_FIPS_codes_by_county')[1]\n",
    "codes.to_csv('List_of_United_States_FIPS_codes_by_county.csv',index = False)"
   ]
  }
 ],
 "metadata": {
  "kernelspec": {
   "display_name": "Python 3",
   "language": "python",
   "name": "python3"
  },
  "language_info": {
   "codemirror_mode": {
    "name": "ipython",
    "version": 3
   },
   "file_extension": ".py",
   "mimetype": "text/x-python",
   "name": "python",
   "nbconvert_exporter": "python",
   "pygments_lexer": "ipython3",
   "version": "3.7.12"
  },
  "papermill": {
   "default_parameters": {},
   "duration": 10.689545,
   "end_time": "2023-02-09T01:02:30.303830",
   "environment_variables": {},
   "exception": null,
   "input_path": "__notebook__.ipynb",
   "output_path": "__notebook__.ipynb",
   "parameters": {},
   "start_time": "2023-02-09T01:02:19.614285",
   "version": "2.3.4"
  }
 },
 "nbformat": 4,
 "nbformat_minor": 5
}
