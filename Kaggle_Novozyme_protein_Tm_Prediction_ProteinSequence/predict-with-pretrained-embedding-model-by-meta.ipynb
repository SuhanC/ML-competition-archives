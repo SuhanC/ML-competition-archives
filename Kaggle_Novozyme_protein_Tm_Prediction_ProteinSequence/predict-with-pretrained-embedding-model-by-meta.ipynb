{
 "cells": [
  {
   "cell_type": "markdown",
   "id": "cc1c45bc",
   "metadata": {
    "papermill": {
     "duration": 0.008397,
     "end_time": "2022-12-12T04:37:56.810131",
     "exception": false,
     "start_time": "2022-12-12T04:37:56.801734",
     "status": "completed"
    },
    "tags": []
   },
   "source": [
    "# Predicting Tm with simple NLP and Protein Embeddings\n",
    "\n",
    "### [Short description of protein embeddings](https://www.uniprot.org/help/embeddings)"
   ]
  },
  {
   "cell_type": "code",
   "execution_count": 1,
   "id": "87c4cfa6",
   "metadata": {
    "_cell_guid": "b1076dfc-b9ad-4769-8c92-a6c4dae69d19",
    "_uuid": "8f2839f25d086af736a60e9eeb907d3b93b6e0e5",
    "execution": {
     "iopub.execute_input": "2022-12-12T04:37:56.826397Z",
     "iopub.status.busy": "2022-12-12T04:37:56.825744Z",
     "iopub.status.idle": "2022-12-12T04:37:56.838615Z",
     "shell.execute_reply": "2022-12-12T04:37:56.837678Z"
    },
    "papermill": {
     "duration": 0.0246,
     "end_time": "2022-12-12T04:37:56.841573",
     "exception": false,
     "start_time": "2022-12-12T04:37:56.816973",
     "status": "completed"
    },
    "tags": []
   },
   "outputs": [
    {
     "name": "stdout",
     "output_type": "stream",
     "text": [
      "/kaggle/input/novozymes-enzyme-stability-prediction/sample_submission.csv\n",
      "/kaggle/input/novozymes-enzyme-stability-prediction/wildtype_structure_prediction_af2.pdb\n",
      "/kaggle/input/novozymes-enzyme-stability-prediction/train.csv\n",
      "/kaggle/input/novozymes-enzyme-stability-prediction/test.csv\n",
      "/kaggle/input/novozymes-enzyme-stability-prediction/train_updates_20220929.csv\n"
     ]
    }
   ],
   "source": [
    "import os\n",
    "for dirname, _, filenames in os.walk('/kaggle/input'):\n",
    "    for filename in filenames:\n",
    "        print(os.path.join(dirname, filename))"
   ]
  },
  {
   "cell_type": "code",
   "execution_count": 2,
   "id": "6e6c062f",
   "metadata": {
    "execution": {
     "iopub.execute_input": "2022-12-12T04:37:56.858630Z",
     "iopub.status.busy": "2022-12-12T04:37:56.857058Z",
     "iopub.status.idle": "2022-12-12T04:37:57.761612Z",
     "shell.execute_reply": "2022-12-12T04:37:57.760596Z"
    },
    "papermill": {
     "duration": 0.915163,
     "end_time": "2022-12-12T04:37:57.764150",
     "exception": false,
     "start_time": "2022-12-12T04:37:56.848987",
     "status": "completed"
    },
    "tags": []
   },
   "outputs": [],
   "source": [
    "import numpy as np\n",
    "import pandas as pd\n",
    "import seaborn as sns\n",
    "import matplotlib.pyplot as plt\n",
    "from tqdm import tqdm\n",
    "import gc"
   ]
  },
  {
   "cell_type": "code",
   "execution_count": 3,
   "id": "a148583d",
   "metadata": {
    "execution": {
     "iopub.execute_input": "2022-12-12T04:37:57.780827Z",
     "iopub.status.busy": "2022-12-12T04:37:57.779272Z",
     "iopub.status.idle": "2022-12-12T04:37:58.206203Z",
     "shell.execute_reply": "2022-12-12T04:37:58.205156Z"
    },
    "papermill": {
     "duration": 0.438019,
     "end_time": "2022-12-12T04:37:58.209430",
     "exception": false,
     "start_time": "2022-12-12T04:37:57.771411",
     "status": "completed"
    },
    "tags": []
   },
   "outputs": [],
   "source": [
    "train = pd.read_table('/kaggle/input/novozymes-enzyme-stability-prediction/train.csv',sep=',').dropna()\n",
    "test = pd.read_table('/kaggle/input/novozymes-enzyme-stability-prediction/test.csv',sep=',')"
   ]
  },
  {
   "cell_type": "code",
   "execution_count": 4,
   "id": "f5f02e1a",
   "metadata": {
    "execution": {
     "iopub.execute_input": "2022-12-12T04:37:58.231616Z",
     "iopub.status.busy": "2022-12-12T04:37:58.231216Z",
     "iopub.status.idle": "2022-12-12T04:37:58.265778Z",
     "shell.execute_reply": "2022-12-12T04:37:58.264851Z"
    },
    "papermill": {
     "duration": 0.04855,
     "end_time": "2022-12-12T04:37:58.268686",
     "exception": false,
     "start_time": "2022-12-12T04:37:58.220136",
     "status": "completed"
    },
    "tags": []
   },
   "outputs": [],
   "source": [
    "train['prot_len'] = [len(p) for p in train.protein_sequence.tolist()]\n",
    "test['prot_len'] = [len(p) for p in test.protein_sequence.tolist()]"
   ]
  },
  {
   "cell_type": "code",
   "execution_count": 5,
   "id": "c4dc5c5a",
   "metadata": {
    "execution": {
     "iopub.execute_input": "2022-12-12T04:37:58.292569Z",
     "iopub.status.busy": "2022-12-12T04:37:58.292201Z",
     "iopub.status.idle": "2022-12-12T04:37:58.300617Z",
     "shell.execute_reply": "2022-12-12T04:37:58.299615Z"
    },
    "papermill": {
     "duration": 0.022328,
     "end_time": "2022-12-12T04:37:58.303300",
     "exception": false,
     "start_time": "2022-12-12T04:37:58.280972",
     "status": "completed"
    },
    "tags": []
   },
   "outputs": [],
   "source": [
    "def GetFastaFromDF(df,output):\n",
    "    outfile = open(output,'w')\n",
    "    for i in tqdm(range(len(df))):\n",
    "        outfile.write('>'+str(df['seq_id'].tolist()[i])+'\\n')\n",
    "        outfile.write(df['protein_sequence'].tolist()[i]+'\\n')\n",
    "    outfile.close()\n",
    "# GetFastaFromDF(train,'./Novozyme.Train.fasta')\n",
    "# GetFastaFromDF(test,'./Novozyme.Test.fasta')"
   ]
  },
  {
   "cell_type": "code",
   "execution_count": 6,
   "id": "91ba11ab",
   "metadata": {
    "execution": {
     "iopub.execute_input": "2022-12-12T04:37:58.324322Z",
     "iopub.status.busy": "2022-12-12T04:37:58.323891Z",
     "iopub.status.idle": "2022-12-12T04:37:58.329418Z",
     "shell.execute_reply": "2022-12-12T04:37:58.328269Z"
    },
    "papermill": {
     "duration": 0.019127,
     "end_time": "2022-12-12T04:37:58.332487",
     "exception": false,
     "start_time": "2022-12-12T04:37:58.313360",
     "status": "completed"
    },
    "tags": []
   },
   "outputs": [],
   "source": [
    "# To free occupied memory manually, for GPU usage.\n",
    "def freemem():\n",
    "    torch.cuda.empty_cache()\n",
    "    gc.collect()"
   ]
  },
  {
   "cell_type": "markdown",
   "id": "81619601",
   "metadata": {
    "execution": {
     "iopub.execute_input": "2022-12-03T03:33:32.311307Z",
     "iopub.status.busy": "2022-12-03T03:33:32.310865Z",
     "iopub.status.idle": "2022-12-03T03:33:32.315705Z",
     "shell.execute_reply": "2022-12-03T03:33:32.314644Z",
     "shell.execute_reply.started": "2022-12-03T03:33:32.311268Z"
    },
    "papermill": {
     "duration": 0.009981,
     "end_time": "2022-12-12T04:37:58.352269",
     "exception": false,
     "start_time": "2022-12-12T04:37:58.342288",
     "status": "completed"
    },
    "tags": []
   },
   "source": [
    "# Getting amino acid "
   ]
  },
  {
   "cell_type": "code",
   "execution_count": 7,
   "id": "62499ea5",
   "metadata": {
    "execution": {
     "iopub.execute_input": "2022-12-12T04:37:58.374094Z",
     "iopub.status.busy": "2022-12-12T04:37:58.373553Z",
     "iopub.status.idle": "2022-12-12T04:37:58.378927Z",
     "shell.execute_reply": "2022-12-12T04:37:58.377820Z"
    },
    "papermill": {
     "duration": 0.020097,
     "end_time": "2022-12-12T04:37:58.382435",
     "exception": false,
     "start_time": "2022-12-12T04:37:58.362338",
     "status": "completed"
    },
    "tags": []
   },
   "outputs": [],
   "source": [
    "aa = ['A', 'R', 'N', 'D', 'C', \n",
    "      'Q', 'E', 'G', 'H', 'I', \n",
    "      'L', 'K', 'M', 'F', 'P', \n",
    "      'S', 'T', 'W', 'Y', 'V']\n"
   ]
  },
  {
   "cell_type": "code",
   "execution_count": 8,
   "id": "66e6ddfc",
   "metadata": {
    "execution": {
     "iopub.execute_input": "2022-12-12T04:37:58.403924Z",
     "iopub.status.busy": "2022-12-12T04:37:58.403443Z",
     "iopub.status.idle": "2022-12-12T04:37:58.409560Z",
     "shell.execute_reply": "2022-12-12T04:37:58.408426Z"
    },
    "papermill": {
     "duration": 0.020138,
     "end_time": "2022-12-12T04:37:58.412673",
     "exception": false,
     "start_time": "2022-12-12T04:37:58.392535",
     "status": "completed"
    },
    "tags": []
   },
   "outputs": [],
   "source": [
    "def aa_bow(sequence,aminolist):\n",
    "    bow_in=[]\n",
    "    for a in aminolist:\n",
    "        bow_in.append(sequence.count(a))\n",
    "    return(bow_in)"
   ]
  },
  {
   "cell_type": "code",
   "execution_count": 9,
   "id": "224caa65",
   "metadata": {
    "execution": {
     "iopub.execute_input": "2022-12-12T04:37:58.434136Z",
     "iopub.status.busy": "2022-12-12T04:37:58.433630Z",
     "iopub.status.idle": "2022-12-12T04:37:58.441665Z",
     "shell.execute_reply": "2022-12-12T04:37:58.440715Z"
    },
    "papermill": {
     "duration": 0.022006,
     "end_time": "2022-12-12T04:37:58.444386",
     "exception": false,
     "start_time": "2022-12-12T04:37:58.422380",
     "status": "completed"
    },
    "tags": []
   },
   "outputs": [],
   "source": [
    "def get_bow(df):\n",
    "    bow_lst=[]\n",
    "    for i in range(len(df)):\n",
    "        bow_tmp = aa_bow(df.protein_sequence.tolist()[i],aa)\n",
    "        bow_lst.append(bow_tmp)\n",
    "    bow_df = pd.DataFrame(bow_lst,columns = aa)\n",
    "    return(bow_df)"
   ]
  },
  {
   "cell_type": "code",
   "execution_count": 10,
   "id": "4a5b0076",
   "metadata": {
    "execution": {
     "iopub.execute_input": "2022-12-12T04:37:58.466772Z",
     "iopub.status.busy": "2022-12-12T04:37:58.466271Z",
     "iopub.status.idle": "2022-12-12T04:38:07.809159Z",
     "shell.execute_reply": "2022-12-12T04:38:07.808135Z"
    },
    "papermill": {
     "duration": 9.357375,
     "end_time": "2022-12-12T04:38:07.811945",
     "exception": false,
     "start_time": "2022-12-12T04:37:58.454570",
     "status": "completed"
    },
    "tags": []
   },
   "outputs": [],
   "source": [
    "train_df = pd.concat([get_bow(train),train],axis=1)\n",
    "test_df = pd.concat([get_bow(test),test],axis=1)"
   ]
  },
  {
   "cell_type": "markdown",
   "id": "3a9a4d28",
   "metadata": {
    "papermill": {
     "duration": 0.006742,
     "end_time": "2022-12-12T04:38:07.825958",
     "exception": false,
     "start_time": "2022-12-12T04:38:07.819216",
     "status": "completed"
    },
    "tags": []
   },
   "source": [
    "- Protein sources are important for explaining batch effect or institutional bias\n",
    "\n",
    "- So categorize them to use as a feature input"
   ]
  },
  {
   "cell_type": "code",
   "execution_count": 11,
   "id": "9bcb28ce",
   "metadata": {
    "execution": {
     "iopub.execute_input": "2022-12-12T04:38:07.841688Z",
     "iopub.status.busy": "2022-12-12T04:38:07.840671Z",
     "iopub.status.idle": "2022-12-12T04:38:07.853088Z",
     "shell.execute_reply": "2022-12-12T04:38:07.852176Z"
    },
    "papermill": {
     "duration": 0.022355,
     "end_time": "2022-12-12T04:38:07.855228",
     "exception": false,
     "start_time": "2022-12-12T04:38:07.832873",
     "status": "completed"
    },
    "tags": []
   },
   "outputs": [],
   "source": [
    "train_df[\"data_source\"] = train_df[\"data_source\"].astype('category')\n",
    "train_df[\"data_source_cat\"] = train_df[\"data_source\"].cat.codes\n",
    "\n",
    "test_df[\"data_source\"] = test_df[\"data_source\"].astype('category')\n",
    "test_df[\"data_source_cat\"] = test_df[\"data_source\"].cat.codes\n"
   ]
  },
  {
   "cell_type": "code",
   "execution_count": 12,
   "id": "a611ab2d",
   "metadata": {
    "execution": {
     "iopub.execute_input": "2022-12-12T04:38:07.870478Z",
     "iopub.status.busy": "2022-12-12T04:38:07.869747Z",
     "iopub.status.idle": "2022-12-12T04:38:07.896563Z",
     "shell.execute_reply": "2022-12-12T04:38:07.895593Z"
    },
    "papermill": {
     "duration": 0.037197,
     "end_time": "2022-12-12T04:38:07.899139",
     "exception": false,
     "start_time": "2022-12-12T04:38:07.861942",
     "status": "completed"
    },
    "tags": []
   },
   "outputs": [],
   "source": [
    "train_df = train_df.dropna()\n",
    "train_df = train_df[train_df.prot_len<1000] # for the Protein embedding calculation"
   ]
  },
  {
   "cell_type": "markdown",
   "id": "16f860b2",
   "metadata": {
    "papermill": {
     "duration": 0.006652,
     "end_time": "2022-12-12T04:38:07.912680",
     "exception": false,
     "start_time": "2022-12-12T04:38:07.906028",
     "status": "completed"
    },
    "tags": []
   },
   "source": [
    "# Adding protein embedding features\n"
   ]
  },
  {
   "cell_type": "markdown",
   "id": "bb517c1b",
   "metadata": {
    "papermill": {
     "duration": 0.00665,
     "end_time": "2022-12-12T04:38:07.925938",
     "exception": false,
     "start_time": "2022-12-12T04:38:07.919288",
     "status": "completed"
    },
    "tags": []
   },
   "source": [
    "### https://github.com/facebookresearch/esm\n",
    "- Meta provides protein embedding models for various of sizes, including a model with 8M parameter, which is the smallest.\n",
    "- We're gonna use the model trained by pytorch, and from the inference result of each protein sequence, 320 features will be extracted for the prediction of Thermostability.\n"
   ]
  },
  {
   "cell_type": "code",
   "execution_count": 13,
   "id": "78e9f39f",
   "metadata": {
    "execution": {
     "iopub.execute_input": "2022-12-12T04:38:07.943355Z",
     "iopub.status.busy": "2022-12-12T04:38:07.942351Z",
     "iopub.status.idle": "2022-12-12T04:38:17.356994Z",
     "shell.execute_reply": "2022-12-12T04:38:17.355927Z"
    },
    "papermill": {
     "duration": 9.42706,
     "end_time": "2022-12-12T04:38:17.359639",
     "exception": false,
     "start_time": "2022-12-12T04:38:07.932579",
     "status": "completed"
    },
    "tags": []
   },
   "outputs": [
    {
     "name": "stderr",
     "output_type": "stream",
     "text": [
      "Downloading: \"https://github.com/facebookresearch/esm/archive/main.zip\" to /root/.cache/torch/hub/main.zip\n",
      "Downloading: \"https://dl.fbaipublicfiles.com/fair-esm/models/esm2_t6_8M_UR50D.pt\" to /root/.cache/torch/hub/checkpoints/esm2_t6_8M_UR50D.pt\n",
      "Downloading: \"https://dl.fbaipublicfiles.com/fair-esm/regression/esm2_t6_8M_UR50D-contact-regression.pt\" to /root/.cache/torch/hub/checkpoints/esm2_t6_8M_UR50D-contact-regression.pt\n"
     ]
    }
   ],
   "source": [
    "import torch\n",
    "model, alphabet = torch.hub.load(\"facebookresearch/esm:main\", \"esm2_t6_8M_UR50D\") # using relatively small model\n",
    "model = model.cuda()\n"
   ]
  },
  {
   "cell_type": "code",
   "execution_count": 14,
   "id": "a268584f",
   "metadata": {
    "execution": {
     "iopub.execute_input": "2022-12-12T04:38:17.379429Z",
     "iopub.status.busy": "2022-12-12T04:38:17.377480Z",
     "iopub.status.idle": "2022-12-12T04:38:17.384274Z",
     "shell.execute_reply": "2022-12-12T04:38:17.383414Z"
    },
    "papermill": {
     "duration": 0.017275,
     "end_time": "2022-12-12T04:38:17.386338",
     "exception": false,
     "start_time": "2022-12-12T04:38:17.369063",
     "status": "completed"
    },
    "tags": []
   },
   "outputs": [],
   "source": [
    "def GetDataForESM(df):\n",
    "    result = [(df.seq_id.tolist()[i],df.protein_sequence.tolist()[i]) for i in range(len(df))]\n",
    "    return(result)"
   ]
  },
  {
   "cell_type": "code",
   "execution_count": 15,
   "id": "565e22af",
   "metadata": {
    "execution": {
     "iopub.execute_input": "2022-12-12T04:38:17.402372Z",
     "iopub.status.busy": "2022-12-12T04:38:17.401518Z",
     "iopub.status.idle": "2022-12-12T04:38:34.125966Z",
     "shell.execute_reply": "2022-12-12T04:38:34.124967Z"
    },
    "papermill": {
     "duration": 16.735027,
     "end_time": "2022-12-12T04:38:34.128546",
     "exception": false,
     "start_time": "2022-12-12T04:38:17.393519",
     "status": "completed"
    },
    "tags": []
   },
   "outputs": [],
   "source": [
    "train_dict = GetDataForESM(train_df)\n",
    "test_dict = GetDataForESM(test_df)"
   ]
  },
  {
   "cell_type": "code",
   "execution_count": 16,
   "id": "f09cd07f",
   "metadata": {
    "execution": {
     "iopub.execute_input": "2022-12-12T04:38:34.146210Z",
     "iopub.status.busy": "2022-12-12T04:38:34.144411Z",
     "iopub.status.idle": "2022-12-12T04:38:34.152489Z",
     "shell.execute_reply": "2022-12-12T04:38:34.151486Z"
    },
    "papermill": {
     "duration": 0.018674,
     "end_time": "2022-12-12T04:38:34.154609",
     "exception": false,
     "start_time": "2022-12-12T04:38:34.135935",
     "status": "completed"
    },
    "tags": []
   },
   "outputs": [],
   "source": [
    "def GetProteinRepresentation(data):\n",
    "    batch_converter = alphabet.get_batch_converter()\n",
    "    model.eval()  # disables dropout for deterministic results\n",
    "    batch_labels, batch_strs, batch_tokens = batch_converter(data)\n",
    "    batch_lens = (batch_tokens != alphabet.padding_idx).sum(1)\n",
    "\n",
    "    with torch.no_grad():\n",
    "        results = model(batch_tokens.cuda(), repr_layers=[6])\n",
    "    token_representations = results[\"representations\"][6]\n",
    "\n",
    "    # Generate per-sequence representations via averaging\n",
    "    # NOTE: token 0 is always a beginning-of-sequence token, so the first residue is token 1.\n",
    "    sequence_representations = []\n",
    "    for i, tokens_len in enumerate(batch_lens):\n",
    "        sequence_representations.append(token_representations[i, 1 : tokens_len - 1].mean(0))\n",
    "    return(sequence_representations)"
   ]
  },
  {
   "cell_type": "markdown",
   "id": "49955025",
   "metadata": {
    "papermill": {
     "duration": 0.007053,
     "end_time": "2022-12-12T04:38:34.169064",
     "exception": false,
     "start_time": "2022-12-12T04:38:34.162011",
     "status": "completed"
    },
    "tags": []
   },
   "source": [
    "# Generate Embeddings for each proteins\n",
    "- Need to chunk the dataset for the use of restricted GPU provide by Kaggle."
   ]
  },
  {
   "cell_type": "code",
   "execution_count": 17,
   "id": "7799e6ff",
   "metadata": {
    "execution": {
     "iopub.execute_input": "2022-12-12T04:38:34.184431Z",
     "iopub.status.busy": "2022-12-12T04:38:34.184107Z",
     "iopub.status.idle": "2022-12-12T04:38:51.008423Z",
     "shell.execute_reply": "2022-12-12T04:38:51.007063Z"
    },
    "papermill": {
     "duration": 16.83442,
     "end_time": "2022-12-12T04:38:51.010519",
     "exception": false,
     "start_time": "2022-12-12T04:38:34.176099",
     "status": "completed"
    },
    "tags": []
   },
   "outputs": [
    {
     "name": "stderr",
     "output_type": "stream",
     "text": [
      "100%|██████████| 49/49 [00:16<00:00,  2.93it/s]\n"
     ]
    }
   ],
   "source": [
    "freemem()\n",
    "test_embedding = []\n",
    "for i in tqdm(range(0, len(test_dict), 50)):\n",
    "    batch = test_dict[i:i+50]\n",
    "    test_embedding.append(GetProteinRepresentation(batch))\n",
    "    freemem()"
   ]
  },
  {
   "cell_type": "code",
   "execution_count": 18,
   "id": "f1a75385",
   "metadata": {
    "execution": {
     "iopub.execute_input": "2022-12-12T04:38:51.032170Z",
     "iopub.status.busy": "2022-12-12T04:38:51.031887Z",
     "iopub.status.idle": "2022-12-12T04:46:27.922074Z",
     "shell.execute_reply": "2022-12-12T04:46:27.920927Z"
    },
    "papermill": {
     "duration": 456.903839,
     "end_time": "2022-12-12T04:46:27.924878",
     "exception": false,
     "start_time": "2022-12-12T04:38:51.021039",
     "status": "completed"
    },
    "tags": []
   },
   "outputs": [
    {
     "name": "stderr",
     "output_type": "stream",
     "text": [
      "100%|██████████| 455/455 [07:36<00:00,  1.00s/it]\n"
     ]
    }
   ],
   "source": [
    "freemem()\n",
    "train_embedding = []\n",
    "for i in tqdm(range(0, len(train_dict), 50)):\n",
    "    batch = train_dict[i:i+50]\n",
    "    train_embedding.append(GetProteinRepresentation(batch))    \n",
    "    freemem()"
   ]
  },
  {
   "cell_type": "code",
   "execution_count": 19,
   "id": "dcec917a",
   "metadata": {
    "execution": {
     "iopub.execute_input": "2022-12-12T04:46:27.991303Z",
     "iopub.status.busy": "2022-12-12T04:46:27.989621Z",
     "iopub.status.idle": "2022-12-12T04:46:27.996237Z",
     "shell.execute_reply": "2022-12-12T04:46:27.995552Z"
    },
    "papermill": {
     "duration": 0.041462,
     "end_time": "2022-12-12T04:46:27.998276",
     "exception": false,
     "start_time": "2022-12-12T04:46:27.956814",
     "status": "completed"
    },
    "tags": []
   },
   "outputs": [],
   "source": [
    "test_embedding = [item for sublist in test_embedding for item in sublist]\n",
    "train_embedding = [item for sublist in train_embedding for item in sublist]"
   ]
  },
  {
   "cell_type": "code",
   "execution_count": 20,
   "id": "5b9568bc",
   "metadata": {
    "execution": {
     "iopub.execute_input": "2022-12-12T04:46:28.064438Z",
     "iopub.status.busy": "2022-12-12T04:46:28.063722Z",
     "iopub.status.idle": "2022-12-12T04:46:28.081367Z",
     "shell.execute_reply": "2022-12-12T04:46:28.080414Z"
    },
    "papermill": {
     "duration": 0.053487,
     "end_time": "2022-12-12T04:46:28.083552",
     "exception": false,
     "start_time": "2022-12-12T04:46:28.030065",
     "status": "completed"
    },
    "tags": []
   },
   "outputs": [],
   "source": [
    "train_input = train_df.drop(['protein_sequence','data_source','seq_id'],axis=1).dropna()\n",
    "test_input = test_df.drop(['protein_sequence','data_source','seq_id'],axis=1)"
   ]
  },
  {
   "cell_type": "code",
   "execution_count": 21,
   "id": "4d3f0782",
   "metadata": {
    "execution": {
     "iopub.execute_input": "2022-12-12T04:46:28.150007Z",
     "iopub.status.busy": "2022-12-12T04:46:28.148439Z",
     "iopub.status.idle": "2022-12-12T04:46:37.717468Z",
     "shell.execute_reply": "2022-12-12T04:46:37.716406Z"
    },
    "papermill": {
     "duration": 9.605232,
     "end_time": "2022-12-12T04:46:37.721328",
     "exception": false,
     "start_time": "2022-12-12T04:46:28.116096",
     "status": "completed"
    },
    "tags": []
   },
   "outputs": [],
   "source": [
    "train_input_eb = [pd.DataFrame(train_embedding[i].cpu().numpy()).T for i in range(len(train_embedding))]\n",
    "train_input_eb = pd.concat(train_input_eb)\n",
    "\n",
    "\n",
    "test_input_eb = [pd.DataFrame(test_embedding[i].cpu().numpy()).T for i in range(len(test_embedding))]\n",
    "test_input_eb = pd.concat(test_input_eb)"
   ]
  },
  {
   "cell_type": "code",
   "execution_count": 22,
   "id": "3a112fba",
   "metadata": {
    "execution": {
     "iopub.execute_input": "2022-12-12T04:46:37.786312Z",
     "iopub.status.busy": "2022-12-12T04:46:37.785989Z",
     "iopub.status.idle": "2022-12-12T04:46:37.814682Z",
     "shell.execute_reply": "2022-12-12T04:46:37.813755Z"
    },
    "papermill": {
     "duration": 0.063011,
     "end_time": "2022-12-12T04:46:37.816897",
     "exception": false,
     "start_time": "2022-12-12T04:46:37.753886",
     "status": "completed"
    },
    "tags": []
   },
   "outputs": [],
   "source": [
    "train_input = pd.concat([train_input.reset_index(drop = True),train_input_eb.reset_index(drop = True)],axis=1)\n",
    "test_input = pd.concat([test_input.reset_index(drop = True),test_input_eb.reset_index(drop = True)],axis=1)"
   ]
  },
  {
   "cell_type": "code",
   "execution_count": 23,
   "id": "dc88a670",
   "metadata": {
    "execution": {
     "iopub.execute_input": "2022-12-12T04:46:37.882984Z",
     "iopub.status.busy": "2022-12-12T04:46:37.882589Z",
     "iopub.status.idle": "2022-12-12T04:46:37.887403Z",
     "shell.execute_reply": "2022-12-12T04:46:37.886467Z"
    },
    "papermill": {
     "duration": 0.039159,
     "end_time": "2022-12-12T04:46:37.889461",
     "exception": false,
     "start_time": "2022-12-12T04:46:37.850302",
     "status": "completed"
    },
    "tags": []
   },
   "outputs": [],
   "source": [
    "# train_input.to_csv('train_clean.csv',sep=',',index = False)\n",
    "# test_input.to_csv('test_clean.csv',sep=',',index = False)"
   ]
  },
  {
   "cell_type": "markdown",
   "id": "8fe138f6",
   "metadata": {
    "papermill": {
     "duration": 0.031942,
     "end_time": "2022-12-12T04:46:37.953368",
     "exception": false,
     "start_time": "2022-12-12T04:46:37.921426",
     "status": "completed"
    },
    "tags": []
   },
   "source": [
    "# Training"
   ]
  },
  {
   "cell_type": "code",
   "execution_count": 24,
   "id": "61f3506a",
   "metadata": {
    "execution": {
     "iopub.execute_input": "2022-12-12T04:46:38.018188Z",
     "iopub.status.busy": "2022-12-12T04:46:38.017823Z",
     "iopub.status.idle": "2022-12-12T05:27:29.207756Z",
     "shell.execute_reply": "2022-12-12T05:27:29.206756Z"
    },
    "papermill": {
     "duration": 2451.260045,
     "end_time": "2022-12-12T05:27:29.244850",
     "exception": false,
     "start_time": "2022-12-12T04:46:37.984805",
     "status": "completed"
    },
    "tags": []
   },
   "outputs": [
    {
     "name": "stderr",
     "output_type": "stream",
     "text": [
      "\u001b[32m[I 2022-12-12 04:46:38,532]\u001b[0m A new study created in memory with name: no-name-4a49e8f0-3a34-49db-96d8-db71423990ef\u001b[0m\n",
      "/opt/conda/lib/python3.7/site-packages/sklearn/utils/validation.py:1692: FutureWarning: Feature names only support names that are all strings. Got feature names with dtypes: ['int', 'str']. An error will be raised in 1.2.\n",
      "  FutureWarning,\n",
      "/opt/conda/lib/python3.7/site-packages/sklearn/utils/validation.py:1692: FutureWarning: Feature names only support names that are all strings. Got feature names with dtypes: ['int', 'str']. An error will be raised in 1.2.\n",
      "  FutureWarning,\n",
      "/opt/conda/lib/python3.7/site-packages/sklearn/utils/validation.py:1692: FutureWarning: Feature names only support names that are all strings. Got feature names with dtypes: ['int', 'str']. An error will be raised in 1.2.\n",
      "  FutureWarning,\n",
      "/opt/conda/lib/python3.7/site-packages/sklearn/utils/validation.py:1692: FutureWarning: Feature names only support names that are all strings. Got feature names with dtypes: ['int', 'str']. An error will be raised in 1.2.\n",
      "  FutureWarning,\n",
      "\u001b[32m[I 2022-12-12 04:55:20,298]\u001b[0m Trial 0 finished with value: 60.12182757616241 and parameters: {'classifier': 'RandomForest', 'rf_max_depth': 19}. Best is trial 0 with value: 60.12182757616241.\u001b[0m\n",
      "/opt/conda/lib/python3.7/site-packages/sklearn/utils/validation.py:1692: FutureWarning: Feature names only support names that are all strings. Got feature names with dtypes: ['int', 'str']. An error will be raised in 1.2.\n",
      "  FutureWarning,\n",
      "/opt/conda/lib/python3.7/site-packages/sklearn/utils/validation.py:1692: FutureWarning: Feature names only support names that are all strings. Got feature names with dtypes: ['int', 'str']. An error will be raised in 1.2.\n",
      "  FutureWarning,\n",
      "/opt/conda/lib/python3.7/site-packages/sklearn/utils/validation.py:1692: FutureWarning: Feature names only support names that are all strings. Got feature names with dtypes: ['int', 'str']. An error will be raised in 1.2.\n",
      "  FutureWarning,\n",
      "/opt/conda/lib/python3.7/site-packages/sklearn/utils/validation.py:1692: FutureWarning: Feature names only support names that are all strings. Got feature names with dtypes: ['int', 'str']. An error will be raised in 1.2.\n",
      "  FutureWarning,\n",
      "\u001b[32m[I 2022-12-12 05:04:39,668]\u001b[0m Trial 1 finished with value: 59.85530764561851 and parameters: {'classifier': 'RandomForest', 'rf_max_depth': 22}. Best is trial 1 with value: 59.85530764561851.\u001b[0m\n",
      "/opt/conda/lib/python3.7/site-packages/sklearn/utils/validation.py:1692: FutureWarning: Feature names only support names that are all strings. Got feature names with dtypes: ['int', 'str']. An error will be raised in 1.2.\n",
      "  FutureWarning,\n",
      "/opt/conda/lib/python3.7/site-packages/sklearn/utils/validation.py:1692: FutureWarning: Feature names only support names that are all strings. Got feature names with dtypes: ['int', 'str']. An error will be raised in 1.2.\n",
      "  FutureWarning,\n",
      "/opt/conda/lib/python3.7/site-packages/sklearn/utils/validation.py:1692: FutureWarning: Feature names only support names that are all strings. Got feature names with dtypes: ['int', 'str']. An error will be raised in 1.2.\n",
      "  FutureWarning,\n",
      "/opt/conda/lib/python3.7/site-packages/sklearn/utils/validation.py:1692: FutureWarning: Feature names only support names that are all strings. Got feature names with dtypes: ['int', 'str']. An error will be raised in 1.2.\n",
      "  FutureWarning,\n",
      "\u001b[32m[I 2022-12-12 05:07:35,827]\u001b[0m Trial 2 finished with value: 79.41629930100046 and parameters: {'classifier': 'RandomForest', 'rf_max_depth': 5}. Best is trial 1 with value: 59.85530764561851.\u001b[0m\n",
      "/opt/conda/lib/python3.7/site-packages/sklearn/utils/validation.py:1692: FutureWarning: Feature names only support names that are all strings. Got feature names with dtypes: ['int', 'str']. An error will be raised in 1.2.\n",
      "  FutureWarning,\n",
      "/opt/conda/lib/python3.7/site-packages/sklearn/utils/validation.py:1692: FutureWarning: Feature names only support names that are all strings. Got feature names with dtypes: ['int', 'str']. An error will be raised in 1.2.\n",
      "  FutureWarning,\n",
      "/opt/conda/lib/python3.7/site-packages/sklearn/utils/validation.py:1692: FutureWarning: Feature names only support names that are all strings. Got feature names with dtypes: ['int', 'str']. An error will be raised in 1.2.\n",
      "  FutureWarning,\n",
      "/opt/conda/lib/python3.7/site-packages/sklearn/utils/validation.py:1692: FutureWarning: Feature names only support names that are all strings. Got feature names with dtypes: ['int', 'str']. An error will be raised in 1.2.\n",
      "  FutureWarning,\n",
      "\u001b[32m[I 2022-12-12 05:17:39,081]\u001b[0m Trial 3 finished with value: 56.44682098902897 and parameters: {'classifier': 'RandomForest', 'rf_max_depth': 30}. Best is trial 3 with value: 56.44682098902897.\u001b[0m\n",
      "/opt/conda/lib/python3.7/site-packages/sklearn/utils/validation.py:1692: FutureWarning: Feature names only support names that are all strings. Got feature names with dtypes: ['int', 'str']. An error will be raised in 1.2.\n",
      "  FutureWarning,\n",
      "/opt/conda/lib/python3.7/site-packages/sklearn/utils/validation.py:1692: FutureWarning: Feature names only support names that are all strings. Got feature names with dtypes: ['int', 'str']. An error will be raised in 1.2.\n",
      "  FutureWarning,\n",
      "/opt/conda/lib/python3.7/site-packages/sklearn/utils/validation.py:1692: FutureWarning: Feature names only support names that are all strings. Got feature names with dtypes: ['int', 'str']. An error will be raised in 1.2.\n",
      "  FutureWarning,\n",
      "/opt/conda/lib/python3.7/site-packages/sklearn/utils/validation.py:1692: FutureWarning: Feature names only support names that are all strings. Got feature names with dtypes: ['int', 'str']. An error will be raised in 1.2.\n",
      "  FutureWarning,\n",
      "\u001b[32m[I 2022-12-12 05:27:29,203]\u001b[0m Trial 4 finished with value: 56.15208509286599 and parameters: {'classifier': 'RandomForest', 'rf_max_depth': 25}. Best is trial 4 with value: 56.15208509286599.\u001b[0m\n"
     ]
    }
   ],
   "source": [
    "import optuna\n",
    "import sklearn\n",
    "import sklearn.ensemble\n",
    "from sklearn.model_selection import train_test_split\n",
    "\n",
    "from sklearn.preprocessing import StandardScaler\n",
    "scaler = StandardScaler()\n",
    "\n",
    "# Define an objective function to be minimized.\n",
    "def objective(trial):\n",
    "\n",
    "    regressor_name = trial.suggest_categorical('classifier', ['RandomForest'])\n",
    "    rf_max_depth = trial.suggest_int('rf_max_depth', 2, 32)\n",
    "    regressor_obj = sklearn.ensemble.RandomForestRegressor(max_depth=rf_max_depth)\n",
    "\n",
    "    X_train, X_val, y_train, y_val = train_test_split(train_input.drop('tm',axis=1),train_input['tm'])\n",
    "    X_train = scaler.fit_transform(X_train)\n",
    "    X_val = scaler.fit_transform(X_val)\n",
    "\n",
    "    regressor_obj.fit(X_train, y_train)\n",
    "    y_pred = regressor_obj.predict(X_val)\n",
    "\n",
    "    error = sklearn.metrics.mean_squared_error(y_val, y_pred)\n",
    "\n",
    "    return error  # An objective value linked with the Trial object.\n",
    "\n",
    "study = optuna.create_study()  # Create a new study.\n",
    "study.optimize(objective, n_trials=5)  # Invoke optimization of the objective function."
   ]
  },
  {
   "cell_type": "code",
   "execution_count": 25,
   "id": "9a767797",
   "metadata": {
    "execution": {
     "iopub.execute_input": "2022-12-12T05:27:29.372604Z",
     "iopub.status.busy": "2022-12-12T05:27:29.371593Z",
     "iopub.status.idle": "2022-12-12T05:27:29.377423Z",
     "shell.execute_reply": "2022-12-12T05:27:29.376428Z"
    },
    "papermill": {
     "duration": 0.100188,
     "end_time": "2022-12-12T05:27:29.379369",
     "exception": false,
     "start_time": "2022-12-12T05:27:29.279181",
     "status": "completed"
    },
    "tags": []
   },
   "outputs": [],
   "source": [
    "clf = study.best_trial.params['classifier']\n",
    "best_model = sklearn.ensemble.RandomForestRegressor(max_depth = study.best_trial.params['rf_max_depth'])"
   ]
  },
  {
   "cell_type": "code",
   "execution_count": 26,
   "id": "08e1d6d4",
   "metadata": {
    "execution": {
     "iopub.execute_input": "2022-12-12T05:27:29.446814Z",
     "iopub.status.busy": "2022-12-12T05:27:29.445854Z",
     "iopub.status.idle": "2022-12-12T05:37:02.279611Z",
     "shell.execute_reply": "2022-12-12T05:37:02.278656Z"
    },
    "papermill": {
     "duration": 572.902162,
     "end_time": "2022-12-12T05:37:02.314746",
     "exception": false,
     "start_time": "2022-12-12T05:27:29.412584",
     "status": "completed"
    },
    "tags": []
   },
   "outputs": [
    {
     "name": "stderr",
     "output_type": "stream",
     "text": [
      "/opt/conda/lib/python3.7/site-packages/sklearn/utils/validation.py:1692: FutureWarning: Feature names only support names that are all strings. Got feature names with dtypes: ['int', 'str']. An error will be raised in 1.2.\n",
      "  FutureWarning,\n",
      "/opt/conda/lib/python3.7/site-packages/sklearn/utils/validation.py:1692: FutureWarning: Feature names only support names that are all strings. Got feature names with dtypes: ['int', 'str']. An error will be raised in 1.2.\n",
      "  FutureWarning,\n",
      "/opt/conda/lib/python3.7/site-packages/sklearn/utils/validation.py:1692: FutureWarning: Feature names only support names that are all strings. Got feature names with dtypes: ['int', 'str']. An error will be raised in 1.2.\n",
      "  FutureWarning,\n",
      "/opt/conda/lib/python3.7/site-packages/sklearn/utils/validation.py:1692: FutureWarning: Feature names only support names that are all strings. Got feature names with dtypes: ['int', 'str']. An error will be raised in 1.2.\n",
      "  FutureWarning,\n"
     ]
    },
    {
     "data": {
      "text/plain": [
       "RandomForestRegressor(max_depth=25)"
      ]
     },
     "execution_count": 26,
     "metadata": {},
     "output_type": "execute_result"
    }
   ],
   "source": [
    "X_train, X_val, y_train, y_val = train_test_split(train_input.drop('tm',axis=1),train_input['tm'])\n",
    "X_train = scaler.fit_transform(X_train)\n",
    "X_val = scaler.fit_transform(X_val)\n",
    "best_model.fit(X_train,y_train)"
   ]
  },
  {
   "cell_type": "markdown",
   "id": "b9ecb60f",
   "metadata": {
    "papermill": {
     "duration": 0.032488,
     "end_time": "2022-12-12T05:37:02.379669",
     "exception": false,
     "start_time": "2022-12-12T05:37:02.347181",
     "status": "completed"
    },
    "tags": []
   },
   "source": [
    "# Correlation value for train dataset ( Train-test split )"
   ]
  },
  {
   "cell_type": "code",
   "execution_count": 27,
   "id": "7e605128",
   "metadata": {
    "execution": {
     "iopub.execute_input": "2022-12-12T05:37:02.446471Z",
     "iopub.status.busy": "2022-12-12T05:37:02.445558Z",
     "iopub.status.idle": "2022-12-12T05:37:02.645829Z",
     "shell.execute_reply": "2022-12-12T05:37:02.644817Z"
    },
    "papermill": {
     "duration": 0.235971,
     "end_time": "2022-12-12T05:37:02.648168",
     "exception": false,
     "start_time": "2022-12-12T05:37:02.412197",
     "status": "completed"
    },
    "tags": []
   },
   "outputs": [
    {
     "name": "stdout",
     "output_type": "stream",
     "text": [
      "0.7747804621641007\n"
     ]
    }
   ],
   "source": [
    "from scipy import stats\n",
    "corr_value = stats.pearsonr(y_val,best_model.predict(X_val))[0]\n",
    "print(corr_value)"
   ]
  },
  {
   "cell_type": "markdown",
   "id": "f75a1f8b",
   "metadata": {
    "papermill": {
     "duration": 0.032685,
     "end_time": "2022-12-12T05:37:02.714989",
     "exception": false,
     "start_time": "2022-12-12T05:37:02.682304",
     "status": "completed"
    },
    "tags": []
   },
   "source": [
    "# Submssion"
   ]
  },
  {
   "cell_type": "code",
   "execution_count": 28,
   "id": "abf76c67",
   "metadata": {
    "execution": {
     "iopub.execute_input": "2022-12-12T05:37:02.782012Z",
     "iopub.status.busy": "2022-12-12T05:37:02.780942Z",
     "iopub.status.idle": "2022-12-12T05:37:03.142794Z",
     "shell.execute_reply": "2022-12-12T05:37:03.141911Z"
    },
    "papermill": {
     "duration": 0.397608,
     "end_time": "2022-12-12T05:37:03.145004",
     "exception": false,
     "start_time": "2022-12-12T05:37:02.747396",
     "status": "completed"
    },
    "tags": []
   },
   "outputs": [
    {
     "name": "stderr",
     "output_type": "stream",
     "text": [
      "/opt/conda/lib/python3.7/site-packages/sklearn/utils/validation.py:1692: FutureWarning: Feature names only support names that are all strings. Got feature names with dtypes: ['int', 'str']. An error will be raised in 1.2.\n",
      "  FutureWarning,\n"
     ]
    },
    {
     "data": {
      "image/png": "[encoded data removed]",
      "text/plain": [
       "<Figure size 432x288 with 1 Axes>"
      ]
     },
     "metadata": {
      "needs_background": "light"
     },
     "output_type": "display_data"
    }
   ],
   "source": [
    "predicted_data = pd.DataFrame(best_model.predict(test_input))\n",
    "\n",
    "sns.histplot(predicted_data)\n",
    "\n",
    "predicted_data.index = test.seq_id\n",
    "predicted_data.columns = ['tm']\n",
    "predicted_data = predicted_data.reset_index()\n",
    "predicted_data.to_csv('submission.csv',sep=',',index = False)"
   ]
  }
 ],
 "metadata": {
  "kernelspec": {
   "display_name": "Python 3",
   "language": "python",
   "name": "python3"
  },
  "language_info": {
   "codemirror_mode": {
    "name": "ipython",
    "version": 3
   },
   "file_extension": ".py",
   "mimetype": "text/x-python",
   "name": "python",
   "nbconvert_exporter": "python",
   "pygments_lexer": "ipython3",
   "version": "3.7.12"
  },
  "papermill": {
   "default_parameters": {},
   "duration": 3555.922636,
   "end_time": "2022-12-12T05:37:04.506393",
   "environment_variables": {},
   "exception": null,
   "input_path": "__notebook__.ipynb",
   "output_path": "__notebook__.ipynb",
   "parameters": {},
   "start_time": "2022-12-12T04:37:48.583757",
   "version": "2.3.4"
  }
 },
 "nbformat": 4,
 "nbformat_minor": 5
}
